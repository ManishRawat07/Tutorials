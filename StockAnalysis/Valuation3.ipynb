{
 "cells": [
  {
   "cell_type": "code",
   "execution_count": 116,
   "id": "desirable-dating",
   "metadata": {},
   "outputs": [],
   "source": [
    "import requests"
   ]
  },
  {
   "cell_type": "markdown",
   "id": "simplified-telling",
   "metadata": {},
   "source": [
    "The API key “demo” below is a demo key which only works for obtaining data for “KOSS”. For other tickers, you need to sign up for an account at https://financialmodelingprep.com/developer to get an API key for free (for the first 250 requests, however you can actually just sign up for another account when your free requests are used up)."
   ]
  },
  {
   "cell_type": "code",
   "execution_count": 146,
   "id": "disturbed-fetish",
   "metadata": {},
   "outputs": [],
   "source": [
    "apikey = \"4f9235dd83eb59bf340f1ed5d3612cc9\"\n",
    "company = \"KOSS\""
   ]
  },
  {
   "cell_type": "code",
   "execution_count": 153,
   "id": "unknown-gather",
   "metadata": {},
   "outputs": [],
   "source": [
    "def valuecompany(quote):\n",
    "    #Latest dividend of the company\n",
    "    dividend = requests.get(f'https://financialmodelingprep.com/api/v3/financials/income-statement/{quote}?apikey={apikey}')\n",
    "    dividend = dividend.json()\n",
    "    dividend = dividend['financials']\n",
    "    try:\n",
    "        Dtoday = float(dividend[0]['Dividend per Share'])\n",
    "    except:\n",
    "        Dtoday = 0.0\n",
    "    \n",
    "    #ROE and PAyout Ratio\n",
    "    metrics = requests.get(f'https://financialmodelingprep.com/api/v3/company-key-metrics/{quote}?apikey={apikey}')\n",
    "    metrics = metrics.json()\n",
    "\n",
    "    ROE = float(metrics['metrics'][0]['ROE'])\n",
    "    payout_ratio = float(metrics['metrics'][0]['Payout Ratio'])\n",
    "\n",
    "    sustgrwothrate = ROE*(1-payout_ratio)\n",
    "    print(sustgrwothrate)\n",
    "    \n",
    "     ##Cost of equity:\n",
    "\n",
    "    #Risk Free Rate\n",
    "\n",
    "    import pandas as pd\n",
    "    #if you get an error after executing the code, try adding below:\n",
    "    pd.core.common.is_list_like = pd.api.types.is_list_like\n",
    "\n",
    "    import pandas_datareader.data as web\n",
    "    import datetime\n",
    "\n",
    "    start = datetime.datetime(2020, 1, 1)\n",
    "    end = datetime.datetime(2021, 5, 30)\n",
    "\n",
    "    Treasury = web.DataReader(['TB1YR'], 'fred', start, end)\n",
    "    RF = float(Treasury.iloc[-1])\n",
    "    RF = RF/100\n",
    "    \n",
    "    #Beta\n",
    "    beta = requests.get(f'https://financialmodelingprep.com/api/v3/company/profile/{quote}?apikey={apikey}')\n",
    "    beta = beta.json()\n",
    "    beta = float(beta['profile']['beta'])\n",
    "    \n",
    "    #Market Return\n",
    "    start = datetime.datetime(2020, 1, 1)\n",
    "    end = datetime.datetime(2021, 5, 30)\n",
    "\n",
    "    SP500 = web.DataReader(['sp500'], 'fred', start, end)\n",
    "    #Drop all Not a number values using drop method.\n",
    "    SP500.dropna(inplace = True)\n",
    "\n",
    "    SP500yearlyreturn = (SP500['sp500'].iloc[-1]/ SP500['sp500'].iloc[0])-1\n",
    "   \n",
    "    ke = RF+(beta*(SP500yearlyreturn - RF))\n",
    "    \n",
    "    DDM = (Dtoday*(1+sustgrwothrate))/(ke-sustgrwothrate)\n",
    "    print(DDM)\n",
    "    return DDM"
   ]
  },
  {
   "cell_type": "code",
   "execution_count": 155,
   "id": "alpine-investor",
   "metadata": {},
   "outputs": [
    {
     "name": "stdout",
     "output_type": "stream",
     "text": [
      "0.06689528746167704\n",
      "0.0\n"
     ]
    },
    {
     "data": {
      "text/plain": [
       "0.0"
      ]
     },
     "execution_count": 155,
     "metadata": {},
     "output_type": "execute_result"
    }
   ],
   "source": [
    "valuecompany('JNJ')"
   ]
  },
  {
   "cell_type": "code",
   "execution_count": null,
   "id": "chicken-lightweight",
   "metadata": {},
   "outputs": [],
   "source": []
  },
  {
   "cell_type": "code",
   "execution_count": null,
   "id": "desperate-homeless",
   "metadata": {},
   "outputs": [],
   "source": []
  },
  {
   "cell_type": "code",
   "execution_count": null,
   "id": "ongoing-parking",
   "metadata": {},
   "outputs": [],
   "source": []
  }
 ],
 "metadata": {
  "kernelspec": {
   "display_name": "Python 3",
   "language": "python",
   "name": "python3"
  },
  "language_info": {
   "codemirror_mode": {
    "name": "ipython",
    "version": 3
   },
   "file_extension": ".py",
   "mimetype": "text/x-python",
   "name": "python",
   "nbconvert_exporter": "python",
   "pygments_lexer": "ipython3",
   "version": "3.8.6"
  }
 },
 "nbformat": 4,
 "nbformat_minor": 5
}
