{
 "cells": [
  {
   "cell_type": "code",
   "execution_count": 1,
   "id": "improved-collar",
   "metadata": {},
   "outputs": [],
   "source": [
    "from yahoo_fin import stock_info as si\n",
    "from matplotlib import pyplot as plt \n",
    "import pandas_datareader as dr\n",
    "import numpy as np\n",
    "import pandas as pd"
   ]
  },
  {
   "cell_type": "code",
   "execution_count": 2,
   "id": "generous-precipitation",
   "metadata": {},
   "outputs": [],
   "source": [
    "'''----// General input variables //----'''\n",
    "\n",
    "company_ticker = 'CVX'\n",
    "market_risk_premium = 0.059\n",
    "debt_return = 0.01\n",
    "long_term_growth = 0.01\n",
    "tax_rate = 0.3\n",
    "iterations = 1000"
   ]
  },
  {
   "cell_type": "code",
   "execution_count": 3,
   "id": "interstate-hormone",
   "metadata": {},
   "outputs": [],
   "source": [
    "'''----// Get financial information from yahoo finance //----'''\n",
    "\n",
    "income_statement_df = si.get_income_statement(company_ticker)\n",
    "\n",
    "pars_df = income_statement_df.loc[['totalRevenue', 'ebit']]\n",
    "\n",
    "input_df = pars_df.iloc[:, ::-1]"
   ]
  },
  {
   "cell_type": "code",
   "execution_count": 4,
   "id": "least-charger",
   "metadata": {},
   "outputs": [],
   "source": [
    "'''----// Calculate average revenue CAGR & EBIT margin //----'''\n",
    "\n",
    "def get_cagr(past_revs):\n",
    "    CAGR = (past_revs.iloc[0,3]/past_revs.iloc[0,0])**(1/4)-1\n",
    "    return(CAGR)\n",
    "\n",
    "def get_average_margin(past_ebit):\n",
    "    margin = 0\n",
    "    margin_lst = []\n",
    "    for i in range(len(past_ebit.columns)):\n",
    "        margin = past_ebit.iloc[1,i]/past_ebit.iloc[0,i]\n",
    "    margin_lst.append(margin)\n",
    "    return(sum(margin_lst)/len(margin_lst))\n"
   ]
  },
  {
   "cell_type": "code",
   "execution_count": 6,
   "id": "banner-mathematics",
   "metadata": {},
   "outputs": [],
   "source": [
    "mean_cagr = get_cagr(input_df)\n",
    "mean_margin = get_average_margin(input_df)"
   ]
  },
  {
   "cell_type": "code",
   "execution_count": 7,
   "id": "distinguished-vietnamese",
   "metadata": {},
   "outputs": [],
   "source": [
    "'''----// Create forecast function through which random variables will flow //----'''\n",
    "def get_forecast(input_df, cagr, margin, long_term_growth):\n",
    "    forecast_lst = []\n",
    "    for i in range(6):\n",
    "        if i < 5:\n",
    "            forecast_lst.append(input_df.iloc[0,3]*(1+cagr)**(i+1)*margin)\n",
    "        else:\n",
    "            forecast_lst.append(input_df.iloc[0,3]*(1+cagr)**(i)*(1+long_term_growth)*margin)\n",
    "    return forecast_lst"
   ]
  },
  {
   "cell_type": "code",
   "execution_count": 8,
   "id": "furnished-directive",
   "metadata": {},
   "outputs": [],
   "source": [
    "'''----// Get WACC and net debt //----'''\n",
    "\n",
    "def get_wacc(company_ticker, market_risk_premium, debt_return, tax_rate):\n",
    "    risk_free_rate_df = dr.DataReader('^TNX', 'yahoo') \n",
    "    risk_free_rate = (risk_free_rate_df.iloc[len(risk_free_rate_df)-1,5])/100\n",
    "    equity_beta = si.get_quote_table('msft')['Beta (5Y Monthly)']\n",
    "    equity_return = risk_free_rate+equity_beta*(market_risk_premium)\n",
    "    balance_sheet_df = si.get_balance_sheet(company_ticker)\n",
    "    short_term_debt_series = balance_sheet_df.loc['shortLongTermDebt']\n",
    "    long_term_debt_series = balance_sheet_df.loc['longTermDebt']\n",
    "    cash_series = balance_sheet_df.loc['cash']\n",
    "    net_debt = short_term_debt_series.iloc[0] +  + long_term_debt_series.iloc[0] - cash_series.iloc[0]\n",
    "    market_cap_str = si.get_quote_table(company_ticker)['Market Cap']\n",
    "    market_cap_lst = market_cap_str.split('.')\n",
    "\n",
    "    if market_cap_str[len(market_cap_str)-1] == 'T':\n",
    "        market_cap_length = len(market_cap_lst[1])-1\n",
    "        market_cap_lst[1] = market_cap_lst[1].replace('T',(12-market_cap_length)*'0')\n",
    "        market_cap = int(''.join(market_cap_lst))\n",
    "\n",
    "    if market_cap_str[len(market_cap_str)-1] == 'B':\n",
    "        market_cap_length = len(market_cap_lst[1])-1\n",
    "        market_cap_lst[1] = market_cap_lst[1].replace('B',(9-market_cap_length)*'0')\n",
    "        market_cap = int(''.join(market_cap_lst))\n",
    "\n",
    "    company_value = market_cap + net_debt\n",
    "    WACC = market_cap/company_value * equity_return + net_debt/company_value * debt_return * (1-tax_rate)\n",
    "    return WACC"
   ]
  },
  {
   "cell_type": "code",
   "execution_count": 9,
   "id": "entertaining-tuning",
   "metadata": {},
   "outputs": [],
   "source": [
    "def get_net_debt():\n",
    "    \n",
    "    balance_sheet_df = si.get_balance_sheet(company_ticker)\n",
    "    short_term_debt_series = balance_sheet_df.loc['shortLongTermDebt']\n",
    "    long_term_debt_series = balance_sheet_df.loc['longTermDebt']\n",
    "    cash_series = balance_sheet_df.loc['cash']\n",
    "\n",
    "    return short_term_debt_series.iloc[0] + long_term_debt_series.iloc[0] - cash_series.iloc[0]"
   ]
  },
  {
   "cell_type": "code",
   "execution_count": 10,
   "id": "dimensional-decimal",
   "metadata": {},
   "outputs": [],
   "source": [
    "mean_wacc = get_wacc(company_ticker, market_risk_premium, debt_return, tax_rate)\n",
    "\n",
    "net_debt = get_net_debt()"
   ]
  },
  {
   "cell_type": "code",
   "execution_count": 11,
   "id": "distributed-council",
   "metadata": {},
   "outputs": [],
   "source": [
    "'''----// Discount EBIT figures to arrive at the PV of the firm's cash flows //----'''\n",
    "\n",
    "def discount(forecast, discount_rate, long_term_rate):\n",
    "    discount_lst = []\n",
    "    for x,i in enumerate(forecast):\n",
    "        if x < 5:\n",
    "            discount_lst.append(i/(1+discount_rate)**(x+1))\n",
    "        else:\n",
    "            discount_lst.append(i/(discount_rate-long_term_rate)*(1/(1+discount_rate)**5))\n",
    "    return sum(discount_lst)"
   ]
  },
  {
   "cell_type": "code",
   "execution_count": 12,
   "id": "authorized-tours",
   "metadata": {},
   "outputs": [],
   "source": [
    "'''----// Run simulation and plot distribution of model forecasts //----'''\n",
    "\n",
    "hist_lst = []\n",
    "\n",
    "for i in range(iterations):\n",
    "    cagr = np.random.normal(mean_cagr, 0.01)\n",
    "    margin = np.random.normal(mean_margin, 0.005)\n",
    "    long_term_rate = np.random.normal(long_term_growth, 0.001)\n",
    "    discount_rate = np.random.normal(mean_wacc, 0.001)\n",
    "    forecast = get_forecast(input_df, cagr, margin, long_term_rate)\n",
    "    hist_lst.append(discount(forecast, discount_rate, long_term_rate)-net_debt)\n",
    "hist_array = np.array(hist_lst)"
   ]
  },
  {
   "cell_type": "code",
   "execution_count": 13,
   "id": "macro-canada",
   "metadata": {},
   "outputs": [
    {
     "data": {
      "image/png": "[encoded data removed]",
      "text/plain": [
       "<Figure size 432x288 with 1 Axes>"
      ]
     },
     "metadata": {
      "needs_background": "light"
     },
     "output_type": "display_data"
    }
   ],
   "source": [
    "plt.hist(hist_array, bins=50, align='mid', color = 'steelblue', edgecolor='black')\n",
    "plt.title('Sample Distribution ' + company_ticker, {'fontname':'Calibri'})\n",
    "plt.xlabel('Equity Value in $', {'fontname':'Calibri'})\n",
    "plt.ylabel('Frequency', {'fontname':'Calibri'})\n",
    "\n",
    "plt.show()"
   ]
  },
  {
   "cell_type": "code",
   "execution_count": 15,
   "id": "sound-worthy",
   "metadata": {},
   "outputs": [
    {
     "name": "stdout",
     "output_type": "stream",
     "text": [
      "-84134424395.67332\n",
      "-83171450217.52095\n"
     ]
    }
   ],
   "source": [
    "mean = hist_array.mean()\n",
    "standard_error = hist_array.std()/(iterations**(1/2))\n",
    "\n",
    "lower_bound = mean-1.96*standard_error\n",
    "upper_bound = mean+1.96*standard_error \n",
    "\n",
    "print(lower_bound)\n",
    "print(upper_bound)"
   ]
  },
  {
   "cell_type": "code",
   "execution_count": null,
   "id": "vanilla-tiffany",
   "metadata": {},
   "outputs": [],
   "source": []
  }
 ],
 "metadata": {
  "kernelspec": {
   "display_name": "Python 3",
   "language": "python",
   "name": "python3"
  },
  "language_info": {
   "codemirror_mode": {
    "name": "ipython",
    "version": 3
   },
   "file_extension": ".py",
   "mimetype": "text/x-python",
   "name": "python",
   "nbconvert_exporter": "python",
   "pygments_lexer": "ipython3",
   "version": "3.8.6"
  }
 },
 "nbformat": 4,
 "nbformat_minor": 5
}
