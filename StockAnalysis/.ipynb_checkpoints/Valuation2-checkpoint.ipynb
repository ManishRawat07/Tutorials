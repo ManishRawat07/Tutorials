{
 "cells": [
  {
   "cell_type": "code",
   "execution_count": 116,
   "id": "structured-heart",
   "metadata": {},
   "outputs": [],
   "source": [
    "# Importing required modules\n",
    "import requests\n",
    "import numpy as np\n",
    "import numpy_financial as npf\n",
    "import pandas as pd\n",
    "\n",
    "import pandas_datareader.data as web\n",
    "import datetime\n",
    "\n",
    "# Settings to produce nice plots in a Jupyter notebook\n",
    "plt.style.use('fivethirtyeight')\n",
    "%matplotlib inline\n",
    "plt.rcParams['figure.figsize'] = [12, 6]\n",
    "import seaborn as sns\n",
    "\n",
    "# To extract and parse fundamental data from finviz website\n",
    "from bs4 import BeautifulSoup as bs\n",
    "\n",
    "# For parsing financial statements data from financialmodelingprep api\n",
    "from urllib.request import urlopen\n",
    "import json\n",
    "def get_jsonparsed_data(url):\n",
    "    response = urlopen(url)\n",
    "    data = response.read().decode(\"utf-8\")\n",
    "    return json.loads(data)\n",
    "\n",
    "# Financialmodelingprep api url\n",
    "base_url = \"https://financialmodelingprep.com/api/v3/\""
   ]
  },
  {
   "cell_type": "markdown",
   "id": "female-personal",
   "metadata": {},
   "source": [
    "The API key “demo” below is a demo key which only works for obtaining data for “KOSS”. For other tickers, you need to sign up for an account at https://financialmodelingprep.com/developer to get an API key for free (for the first 250 requests, however you can actually just sign up for another account when your free requests are used up)."
   ]
  },
  {
   "cell_type": "code",
   "execution_count": 119,
   "id": "senior-lover",
   "metadata": {},
   "outputs": [],
   "source": [
    "demo = \"4f9235dd83eb59bf340f1ed5d3612cc9\"\n",
    "company = \"KOSS\""
   ]
  },
  {
   "cell_type": "code",
   "execution_count": 120,
   "id": "shaped-grounds",
   "metadata": {},
   "outputs": [],
   "source": [
    "IS = requests.get(f'https://financialmodelingprep.com/api/v3/income-statement/{company}?apikey={demo}').json()\n",
    "count = 0\n",
    "#get revenue growth to estimate future sales\n",
    "revenue_g = []\n",
    "for item in IS:\n",
    "  if count < 4:\n",
    "    #print(item)\n",
    "    revenue_g.append(item['revenue'])\n",
    "    count = count + 1"
   ]
  },
  {
   "cell_type": "code",
   "execution_count": 121,
   "id": "coupled-buffer",
   "metadata": {},
   "outputs": [
    {
     "name": "stdout",
     "output_type": "stream",
     "text": [
      "-0.16162674307324978\n"
     ]
    }
   ],
   "source": [
    "revenue_g = (revenue_g[0] - revenue_g[1]) /revenue_g[1] \n",
    "#revenue_g = 0.05\n",
    "print(revenue_g)\n",
    "#Get net income\n",
    "net_income = IS[0]['netIncome']"
   ]
  },
  {
   "cell_type": "code",
   "execution_count": 122,
   "id": "round-space",
   "metadata": {},
   "outputs": [],
   "source": [
    "BS = requests.get(f'https://financialmodelingprep.com/api/v3/balance-sheet-statement/{company}?apikey={demo}').json()"
   ]
  },
  {
   "cell_type": "code",
   "execution_count": 123,
   "id": "aging-facing",
   "metadata": {},
   "outputs": [],
   "source": [
    "#get income statement as % of revenue for future predictions and forecast 5 next IS years\n",
    "income_statement = pd.DataFrame.from_dict(IS[0],orient='index')\n",
    "income_statement = income_statement[6:26]\n",
    "income_statement.columns = ['current_year']\n",
    "income_statement['as_%_of_revenue'] = income_statement / income_statement.iloc[0]"
   ]
  },
  {
   "cell_type": "code",
   "execution_count": 124,
   "id": "fitting-newman",
   "metadata": {},
   "outputs": [],
   "source": [
    "#forecasting 5 next years income statement\n",
    "income_statement['next_year'] =  (income_statement['current_year']['revenue'] * (1+revenue_g)) * income_statement['as_%_of_revenue'] \n",
    "income_statement['next_2_year'] =  (income_statement['next_year']['revenue'] * (1+revenue_g)) * income_statement['as_%_of_revenue'] \n",
    "income_statement['next_3_year'] =  (income_statement['next_2_year']['revenue'] * (1+revenue_g)) * income_statement['as_%_of_revenue'] \n",
    "income_statement['next_4_year'] =  (income_statement['next_3_year']['revenue'] * (1+revenue_g)) * income_statement['as_%_of_revenue'] \n",
    "income_statement['next_5_year'] =  (income_statement['next_4_year']['revenue'] * (1+revenue_g)) * income_statement['as_%_of_revenue'] "
   ]
  },
  {
   "cell_type": "code",
   "execution_count": 125,
   "id": "hairy-amendment",
   "metadata": {},
   "outputs": [],
   "source": [
    "#Get Balance sheet as a percentage of revenue\n",
    "balance_sheet = pd.DataFrame.from_dict(BS[0],orient='index')\n",
    "balance_sheet = balance_sheet[6:-2]\n",
    "balance_sheet.columns = ['current_year']\n",
    "balance_sheet['as_%_of_revenue'] = balance_sheet / income_statement['current_year'].iloc[0]"
   ]
  },
  {
   "cell_type": "code",
   "execution_count": 126,
   "id": "eight-courage",
   "metadata": {},
   "outputs": [],
   "source": [
    "#forecasting the next 5 years Balance Sheet.\n",
    "balance_sheet['next_year'] =  income_statement['next_year'] ['revenue'] * balance_sheet['as_%_of_revenue']\n",
    "balance_sheet['next_2_year'] =  income_statement['next_2_year'] ['revenue'] * balance_sheet['as_%_of_revenue']\n",
    "balance_sheet['next_3_year'] =  income_statement['next_3_year']['revenue'] * balance_sheet['as_%_of_revenue'] \n",
    "balance_sheet['next_4_year'] =  income_statement['next_4_year']['revenue']  * balance_sheet['as_%_of_revenue'] \n",
    "balance_sheet['next_5_year'] =  income_statement['next_5_year']['revenue'] * balance_sheet['as_%_of_revenue']"
   ]
  },
  {
   "cell_type": "code",
   "execution_count": 127,
   "id": "embedded-passage",
   "metadata": {},
   "outputs": [],
   "source": [
    "CF_forecast = {}\n",
    "CF_forecast['next_year'] = {}\n",
    "CF_forecast['next_year']['netIncome'] = income_statement['next_year']['incomeBeforeTax']\n",
    "CF_forecast['next_year']['inc_depreciation'] = income_statement['next_year']['depreciationAndAmortization'] - income_statement['current_year']['depreciationAndAmortization']\n",
    "CF_forecast['next_year']['inc_receivables'] = balance_sheet['next_year']['netReceivables'] - balance_sheet['current_year']['netReceivables']\n",
    "CF_forecast['next_year']['inc_inventory'] = balance_sheet['next_year']['inventory'] - balance_sheet['current_year']['inventory']\n",
    "CF_forecast['next_year']['inc_payables'] = balance_sheet['next_year']['accountPayables'] - balance_sheet['current_year']['accountPayables']\n",
    "CF_forecast['next_year']['CF_operations'] = CF_forecast['next_year']['netIncome'] + CF_forecast['next_year']['inc_depreciation'] + (CF_forecast['next_year']['inc_receivables'] * -1) + (CF_forecast['next_year']['inc_inventory'] *-1) + CF_forecast['next_year']['inc_payables']\n",
    "CF_forecast['next_year']['CAPEX'] = balance_sheet['next_year']['propertyPlantEquipmentNet'] - balance_sheet['current_year']['propertyPlantEquipmentNet'] + income_statement['next_year']['depreciationAndAmortization']"
   ]
  },
  {
   "cell_type": "code",
   "execution_count": 128,
   "id": "regional-memphis",
   "metadata": {},
   "outputs": [],
   "source": [
    "CF_forecast['next_year']['FCF'] = CF_forecast['next_year']['CAPEX'] + CF_forecast['next_year']['CF_operations']"
   ]
  },
  {
   "cell_type": "code",
   "execution_count": 129,
   "id": "confidential-judgment",
   "metadata": {},
   "outputs": [],
   "source": [
    "CF_forecast['next_2_year'] = {}\n",
    "CF_forecast['next_2_year']['netIncome'] = income_statement['next_2_year']['incomeBeforeTax']"
   ]
  },
  {
   "cell_type": "code",
   "execution_count": 130,
   "id": "immediate-photographer",
   "metadata": {},
   "outputs": [],
   "source": [
    "CF_forecast['next_2_year']['inc_depreciation'] = income_statement['next_2_year']['depreciationAndAmortization'] - income_statement['next_year']['depreciationAndAmortization']\n",
    "CF_forecast['next_2_year']['inc_receivables'] = balance_sheet['next_2_year']['netReceivables'] - balance_sheet['next_year']['netReceivables']\n",
    "CF_forecast['next_2_year']['inc_inventory'] = balance_sheet['next_2_year']['inventory'] - balance_sheet['next_year']['inventory']\n",
    "CF_forecast['next_2_year']['inc_payables'] = balance_sheet['next_2_year']['accountPayables'] - balance_sheet['next_year']['accountPayables']\n",
    "CF_forecast['next_2_year']['CF_operations'] = CF_forecast['next_2_year']['netIncome'] + CF_forecast['next_2_year']['inc_depreciation'] + (CF_forecast['next_2_year']['inc_receivables'] * -1) + (CF_forecast['next_2_year']['inc_inventory'] *-1) + CF_forecast['next_2_year']['inc_payables']\n",
    "CF_forecast['next_2_year']['CAPEX'] = balance_sheet['next_2_year']['propertyPlantEquipmentNet'] - balance_sheet['next_year']['propertyPlantEquipmentNet'] + income_statement['next_2_year']['depreciationAndAmortization']\n",
    "CF_forecast['next_2_year']['FCF'] = CF_forecast['next_2_year']['CAPEX'] + CF_forecast['next_2_year']['CF_operations']"
   ]
  },
  {
   "cell_type": "code",
   "execution_count": 131,
   "id": "ignored-coral",
   "metadata": {},
   "outputs": [],
   "source": [
    "CF_forecast['next_3_year'] = {}\n",
    "CF_forecast['next_3_year']['netIncome'] = income_statement['next_3_year']['incomeBeforeTax']"
   ]
  },
  {
   "cell_type": "code",
   "execution_count": 132,
   "id": "universal-replacement",
   "metadata": {},
   "outputs": [],
   "source": [
    "CF_forecast['next_3_year']['inc_depreciation'] = income_statement['next_3_year']['depreciationAndAmortization'] - income_statement['next_2_year']['depreciationAndAmortization']\n",
    "CF_forecast['next_3_year']['inc_receivables'] = balance_sheet['next_3_year']['netReceivables'] - balance_sheet['next_2_year']['netReceivables']\n",
    "CF_forecast['next_3_year']['inc_inventory'] = balance_sheet['next_3_year']['inventory'] - balance_sheet['next_2_year']['inventory']\n",
    "CF_forecast['next_3_year']['inc_payables'] = balance_sheet['next_3_year']['accountPayables'] - balance_sheet['next_2_year']['accountPayables']\n",
    "CF_forecast['next_3_year']['CF_operations'] = CF_forecast['next_3_year']['netIncome'] + CF_forecast['next_3_year']['inc_depreciation'] + (CF_forecast['next_3_year']['inc_receivables'] * -1) + (CF_forecast['next_3_year']['inc_inventory'] *-1) + CF_forecast['next_3_year']['inc_payables']\n",
    "CF_forecast['next_3_year']['CAPEX'] = balance_sheet['next_3_year']['propertyPlantEquipmentNet'] - balance_sheet['next_2_year']['propertyPlantEquipmentNet'] + income_statement['next_3_year']['depreciationAndAmortization']\n",
    "CF_forecast['next_3_year']['FCF'] = CF_forecast['next_3_year']['CAPEX'] + CF_forecast['next_3_year']['CF_operations']"
   ]
  },
  {
   "cell_type": "code",
   "execution_count": 133,
   "id": "prompt-yorkshire",
   "metadata": {},
   "outputs": [],
   "source": [
    "CF_forecast['next_4_year'] = {}\n",
    "CF_forecast['next_4_year']['netIncome'] = income_statement['next_4_year']['incomeBeforeTax']"
   ]
  },
  {
   "cell_type": "code",
   "execution_count": 134,
   "id": "documented-calendar",
   "metadata": {},
   "outputs": [],
   "source": [
    "CF_forecast['next_4_year']['inc_depreciation'] = income_statement['next_4_year']['depreciationAndAmortization'] - income_statement['next_3_year']['depreciationAndAmortization']\n",
    "CF_forecast['next_4_year']['inc_receivables'] = balance_sheet['next_4_year']['netReceivables'] - balance_sheet['next_3_year']['netReceivables']\n",
    "CF_forecast['next_4_year']['inc_inventory'] = balance_sheet['next_4_year']['inventory'] - balance_sheet['next_3_year']['inventory']\n",
    "CF_forecast['next_4_year']['inc_payables'] = balance_sheet['next_4_year']['accountPayables'] - balance_sheet['next_3_year']['accountPayables']\n",
    "CF_forecast['next_4_year']['CF_operations'] = CF_forecast['next_4_year']['netIncome'] + CF_forecast['next_4_year']['inc_depreciation'] + (CF_forecast['next_4_year']['inc_receivables'] * -1) + (CF_forecast['next_4_year']['inc_inventory'] *-1) + CF_forecast['next_4_year']['inc_payables']\n",
    "CF_forecast['next_4_year']['CAPEX'] = balance_sheet['next_4_year']['propertyPlantEquipmentNet'] - balance_sheet['next_3_year']['propertyPlantEquipmentNet'] + income_statement['next_4_year']['depreciationAndAmortization']\n",
    "CF_forecast['next_4_year']['FCF'] = CF_forecast['next_4_year']['CAPEX'] + CF_forecast['next_4_year']['CF_operations']"
   ]
  },
  {
   "cell_type": "code",
   "execution_count": 135,
   "id": "purple-packet",
   "metadata": {},
   "outputs": [],
   "source": [
    "CF_forecast['next_5_year'] = {}\n",
    "CF_forecast['next_5_year']['netIncome'] = income_statement['next_5_year']['incomeBeforeTax']"
   ]
  },
  {
   "cell_type": "code",
   "execution_count": 136,
   "id": "discrete-thread",
   "metadata": {},
   "outputs": [],
   "source": [
    "CF_forecast['next_5_year']['inc_depreciation'] = income_statement['next_5_year']['depreciationAndAmortization'] - income_statement['next_4_year']['depreciationAndAmortization']\n",
    "CF_forecast['next_5_year']['inc_receivables'] = balance_sheet['next_5_year']['netReceivables'] - balance_sheet['next_4_year']['netReceivables']\n",
    "CF_forecast['next_5_year']['inc_inventory'] = balance_sheet['next_5_year']['inventory'] - balance_sheet['next_4_year']['inventory']\n",
    "CF_forecast['next_5_year']['inc_payables'] = balance_sheet['next_5_year']['accountPayables'] - balance_sheet['next_4_year']['accountPayables']\n",
    "CF_forecast['next_5_year']['CF_operations'] = CF_forecast['next_5_year']['netIncome'] + CF_forecast['next_5_year']['inc_depreciation'] + (CF_forecast['next_5_year']['inc_receivables'] * -1) + (CF_forecast['next_5_year']['inc_inventory'] *-1) + CF_forecast['next_5_year']['inc_payables']\n",
    "CF_forecast['next_5_year']['CAPEX'] = balance_sheet['next_5_year']['propertyPlantEquipmentNet'] - balance_sheet['next_4_year']['propertyPlantEquipmentNet'] + income_statement['next_5_year']['depreciationAndAmortization']\n",
    "CF_forecast['next_5_year']['FCF'] = CF_forecast['next_5_year']['CAPEX'] + CF_forecast['next_5_year']['CF_operations']"
   ]
  },
  {
   "cell_type": "code",
   "execution_count": 137,
   "id": "fossil-variety",
   "metadata": {},
   "outputs": [],
   "source": [
    "#add the forecasted cash flows into a Pandas\n",
    "CF_forec = pd.DataFrame.from_dict(CF_forecast,orient='columns')"
   ]
  },
  {
   "cell_type": "code",
   "execution_count": 138,
   "id": "wooden-depression",
   "metadata": {},
   "outputs": [
    {
     "name": "stdout",
     "output_type": "stream",
     "text": [
      "                  next_year  next_2_year  next_3_year  next_4_year  \\\n",
      "netIncome          -388,885     -326,031     -273,336     -229,157   \n",
      "inc_depreciation    -53,438      -44,801      -37,560      -31,490   \n",
      "inc_receivables    -376,863     -315,952     -264,885     -222,073   \n",
      "inc_inventory      -895,217     -750,526     -629,221     -527,522   \n",
      "inc_payables       -133,779     -112,157      -94,029      -78,832   \n",
      "CF_operations       695,977      583,488      489,181      410,116   \n",
      "CAPEX              -299,177     -250,822     -210,283     -176,295   \n",
      "FCF                 396,800      332,666      278,898      233,821   \n",
      "\n",
      "                  next_5_year  \n",
      "netIncome            -192,119  \n",
      "inc_depreciation      -26,400  \n",
      "inc_receivables      -186,180  \n",
      "inc_inventory        -442,260  \n",
      "inc_payables          -66,090  \n",
      "CF_operations         343,831  \n",
      "CAPEX                -147,801  \n",
      "FCF                   196,029  \n"
     ]
    }
   ],
   "source": [
    "#add below option to format the dataframe with thousand separators\n",
    "pd.options.display.float_format = '{:,.0f}'.format\n",
    "\n",
    "print(CF_forec)"
   ]
  },
  {
   "cell_type": "code",
   "execution_count": 139,
   "id": "vanilla-floating",
   "metadata": {},
   "outputs": [],
   "source": [
    "def interest_coveraga_and_RF(company):\n",
    "    IS= requests.get(f'https://financialmodelingprep.com/api/v3/income-statement/{company}?apikey={demo}').json()\n",
    "    EBIT= IS[0]['ebitda'] - IS[0]['depreciationAndAmortization'] \n",
    "    interest_expense = IS[0]['interestExpense']\n",
    "    interest_coverage_ratio = EBIT / interest_expense\n",
    "    \n",
    "    #RF\n",
    "    start = datetime.datetime(2019, 7, 10)\n",
    "    end= datetime.datetime.today().strftime('%Y-%m-%d')\n",
    "    #end = datetime.datetime(2020, 7, 10)\n",
    "    Treasury = web.DataReader(['TB1YR'], 'fred', start, end)\n",
    "    RF = float(Treasury.iloc[-1])\n",
    "    RF = RF/100\n",
    "    return [RF,interest_coverage_ratio]"
   ]
  },
  {
   "cell_type": "code",
   "execution_count": 140,
   "id": "alien-knock",
   "metadata": {},
   "outputs": [],
   "source": [
    "#Cost of debt\n",
    "def cost_of_debt(company, RF,interest_coverage_ratio):\n",
    "  if interest_coverage_ratio > 8.5:\n",
    "    #Rating is AAA\n",
    "    credit_spread = 0.0063\n",
    "  if (interest_coverage_ratio > 6.5) & (interest_coverage_ratio <= 8.5):\n",
    "    #Rating is AA\n",
    "    credit_spread = 0.0078\n",
    "  if (interest_coverage_ratio > 5.5) & (interest_coverage_ratio <=  6.5):\n",
    "    #Rating is A+\n",
    "    credit_spread = 0.0098\n",
    "  if (interest_coverage_ratio > 4.25) & (interest_coverage_ratio <=  5.49):\n",
    "    #Rating is A\n",
    "    credit_spread = 0.0108\n",
    "  if (interest_coverage_ratio > 3) & (interest_coverage_ratio <=  4.25):\n",
    "    #Rating is A-\n",
    "    credit_spread = 0.0122\n",
    "  if (interest_coverage_ratio > 2.5) & (interest_coverage_ratio <=  3):\n",
    "    #Rating is BBB\n",
    "    credit_spread = 0.0156\n",
    "  if (interest_coverage_ratio > 2.25) & (interest_coverage_ratio <=  2.5):\n",
    "    #Rating is BB+\n",
    "    credit_spread = 0.02\n",
    "  if (interest_coverage_ratio > 2) & (interest_coverage_ratio <=  2.25):\n",
    "    #Rating is BB\n",
    "    credit_spread = 0.0240\n",
    "  if (interest_coverage_ratio > 1.75) & (interest_coverage_ratio <=  2):\n",
    "    #Rating is B+\n",
    "    credit_spread = 0.0351\n",
    "  if (interest_coverage_ratio > 1.5) & (interest_coverage_ratio <=  1.75):\n",
    "    #Rating is B\n",
    "    credit_spread = 0.0421\n",
    "  if (interest_coverage_ratio > 1.25) & (interest_coverage_ratio <=  1.5):\n",
    "    #Rating is B-\n",
    "    credit_spread = 0.0515\n",
    "  if (interest_coverage_ratio > 0.8) & (interest_coverage_ratio <=  1.25):\n",
    "    #Rating is CCC\n",
    "    credit_spread = 0.0820\n",
    "  if (interest_coverage_ratio > 0.65) & (interest_coverage_ratio <=  0.8):\n",
    "    #Rating is CC\n",
    "    credit_spread = 0.0864\n",
    "  if (interest_coverage_ratio > 0.2) & (interest_coverage_ratio <=  0.65):\n",
    "    #Rating is C\n",
    "    credit_spread = 0.1134\n",
    "  if interest_coverage_ratio <=  0.2:\n",
    "    #Rating is D\n",
    "    credit_spread = 0.1512\n",
    "  \n",
    "  cost_of_debt = RF + credit_spread\n",
    "  return cost_of_debt"
   ]
  },
  {
   "cell_type": "code",
   "execution_count": 141,
   "id": "alert-twenty",
   "metadata": {},
   "outputs": [],
   "source": [
    "def costofequity(company):\n",
    "\n",
    "\n",
    "  #RF\n",
    "  start = datetime.datetime(2019, 7, 10)\n",
    "  end= datetime.datetime.today().strftime('%Y-%m-%d')\n",
    "  #end = datetime.datetime(2020, 7, 10)\n",
    "\n",
    "  Treasury = web.DataReader(['TB1YR'], 'fred', start, end)\n",
    "  RF = float(Treasury.iloc[-1])\n",
    "  RF = RF/100\n",
    "  #Beta\n",
    "\n",
    "  beta = requests.get(f'https://financialmodelingprep.com/api/v3/company/profile/{company}?apikey={demo}')\n",
    "  beta = beta.json()\n",
    "  beta = float(beta['profile']['beta'])\n",
    "\n",
    "\n",
    "  #Market Return\n",
    "  start = datetime.datetime(2019, 7, 10)\n",
    "  end= datetime.datetime.today().strftime('%Y-%m-%d')\n",
    "\n",
    "  SP500 = web.DataReader(['sp500'], 'fred', start, end)\n",
    "      #Drop all Not a number values using drop method.\n",
    "  SP500.dropna(inplace = True)\n",
    "\n",
    "  SP500yearlyreturn = (SP500['sp500'].iloc[-1]/ SP500['sp500'].iloc[-252])-1\n",
    "    \n",
    "  cost_of_equity = RF+(beta*(SP500yearlyreturn - RF))\n",
    "  return cost_of_equity"
   ]
  },
  {
   "cell_type": "code",
   "execution_count": 142,
   "id": "least-volunteer",
   "metadata": {},
   "outputs": [],
   "source": [
    "#effective tax rate and capital structure\n",
    "def wacc(company):\n",
    "  FR = requests.get(f'https://financialmodelingprep.com/api/v3/ratios/{company}?apikey={demo}').json()\n",
    "\n",
    "  ETR = FR[0]['effectiveTaxRate']\n",
    "\n",
    "# \n",
    "  BS = requests.get(f'https://financialmodelingprep.com/api/v3/balance-sheet-statement/{company}?period=quarter&apikey={demo}').json()\n",
    "\n",
    "\n",
    "\n",
    "  Debt_to = BS[0]['totalDebt'] / (BS[0]['totalDebt'] + BS[0]['totalStockholdersEquity'])\n",
    "  equity_to = BS[0]['totalStockholdersEquity'] / (BS[0]['totalDebt'] + BS[0]['totalStockholdersEquity'])\n",
    "\n",
    "  WACC = (kd*(1-ETR)*Debt_to) + (ke*equity_to)\n",
    "  return WACC"
   ]
  },
  {
   "cell_type": "code",
   "execution_count": 143,
   "id": "addressed-pension",
   "metadata": {},
   "outputs": [
    {
     "ename": "ZeroDivisionError",
     "evalue": "division by zero",
     "output_type": "error",
     "traceback": [
      "\u001b[1;31m---------------------------------------------------------------------------\u001b[0m",
      "\u001b[1;31mZeroDivisionError\u001b[0m                         Traceback (most recent call last)",
      "\u001b[1;32m<ipython-input-143-a86f825c842a>\u001b[0m in \u001b[0;36m<module>\u001b[1;34m\u001b[0m\n\u001b[1;32m----> 1\u001b[1;33m \u001b[0mRF_and_IntCov\u001b[0m \u001b[1;33m=\u001b[0m \u001b[0minterest_coveraga_and_RF\u001b[0m\u001b[1;33m(\u001b[0m\u001b[0mcompany\u001b[0m\u001b[1;33m)\u001b[0m\u001b[1;33m\u001b[0m\u001b[1;33m\u001b[0m\u001b[0m\n\u001b[0m\u001b[0;32m      2\u001b[0m \u001b[0mRF\u001b[0m \u001b[1;33m=\u001b[0m \u001b[0mRF_and_IntCov\u001b[0m\u001b[1;33m[\u001b[0m\u001b[1;36m0\u001b[0m\u001b[1;33m]\u001b[0m\u001b[1;33m\u001b[0m\u001b[1;33m\u001b[0m\u001b[0m\n\u001b[0;32m      3\u001b[0m \u001b[0minterest_coverage_ratio\u001b[0m \u001b[1;33m=\u001b[0m \u001b[0mRF_and_IntCov\u001b[0m\u001b[1;33m[\u001b[0m\u001b[1;36m1\u001b[0m\u001b[1;33m]\u001b[0m\u001b[1;33m\u001b[0m\u001b[1;33m\u001b[0m\u001b[0m\n\u001b[0;32m      4\u001b[0m \u001b[0mke\u001b[0m \u001b[1;33m=\u001b[0m \u001b[0mcostofequity\u001b[0m\u001b[1;33m(\u001b[0m\u001b[0mcompany\u001b[0m\u001b[1;33m)\u001b[0m\u001b[1;33m\u001b[0m\u001b[1;33m\u001b[0m\u001b[0m\n\u001b[0;32m      5\u001b[0m \u001b[0mkd\u001b[0m \u001b[1;33m=\u001b[0m \u001b[0mcost_of_debt\u001b[0m\u001b[1;33m(\u001b[0m\u001b[0mcompany\u001b[0m\u001b[1;33m,\u001b[0m\u001b[0mRF\u001b[0m\u001b[1;33m,\u001b[0m\u001b[0minterest_coverage_ratio\u001b[0m\u001b[1;33m)\u001b[0m\u001b[1;33m\u001b[0m\u001b[1;33m\u001b[0m\u001b[0m\n",
      "\u001b[1;32m<ipython-input-139-0d1c331a43bd>\u001b[0m in \u001b[0;36minterest_coveraga_and_RF\u001b[1;34m(company)\u001b[0m\n\u001b[0;32m      3\u001b[0m     \u001b[0mEBIT\u001b[0m\u001b[1;33m=\u001b[0m \u001b[0mIS\u001b[0m\u001b[1;33m[\u001b[0m\u001b[1;36m0\u001b[0m\u001b[1;33m]\u001b[0m\u001b[1;33m[\u001b[0m\u001b[1;34m'ebitda'\u001b[0m\u001b[1;33m]\u001b[0m \u001b[1;33m-\u001b[0m \u001b[0mIS\u001b[0m\u001b[1;33m[\u001b[0m\u001b[1;36m0\u001b[0m\u001b[1;33m]\u001b[0m\u001b[1;33m[\u001b[0m\u001b[1;34m'depreciationAndAmortization'\u001b[0m\u001b[1;33m]\u001b[0m\u001b[1;33m\u001b[0m\u001b[1;33m\u001b[0m\u001b[0m\n\u001b[0;32m      4\u001b[0m     \u001b[0minterest_expense\u001b[0m \u001b[1;33m=\u001b[0m \u001b[0mIS\u001b[0m\u001b[1;33m[\u001b[0m\u001b[1;36m0\u001b[0m\u001b[1;33m]\u001b[0m\u001b[1;33m[\u001b[0m\u001b[1;34m'interestExpense'\u001b[0m\u001b[1;33m]\u001b[0m\u001b[1;33m\u001b[0m\u001b[1;33m\u001b[0m\u001b[0m\n\u001b[1;32m----> 5\u001b[1;33m     \u001b[0minterest_coverage_ratio\u001b[0m \u001b[1;33m=\u001b[0m \u001b[0mEBIT\u001b[0m \u001b[1;33m/\u001b[0m \u001b[0minterest_expense\u001b[0m\u001b[1;33m\u001b[0m\u001b[1;33m\u001b[0m\u001b[0m\n\u001b[0m\u001b[0;32m      6\u001b[0m \u001b[1;33m\u001b[0m\u001b[0m\n\u001b[0;32m      7\u001b[0m     \u001b[1;31m#RF\u001b[0m\u001b[1;33m\u001b[0m\u001b[1;33m\u001b[0m\u001b[1;33m\u001b[0m\u001b[0m\n",
      "\u001b[1;31mZeroDivisionError\u001b[0m: division by zero"
     ]
    }
   ],
   "source": [
    "RF_and_IntCov = interest_coveraga_and_RF(company)\n",
    "RF = RF_and_IntCov[0]\n",
    "interest_coverage_ratio = RF_and_IntCov[1]\n",
    "ke = costofequity(company)\n",
    "kd = cost_of_debt(company,RF,interest_coverage_ratio)\n",
    "wacc_company = wacc(company)\n",
    "print('wacc of ' + company + ' is ' + str((wacc_company*100))+'%')"
   ]
  },
  {
   "cell_type": "code",
   "execution_count": 144,
   "id": "bottom-warrior",
   "metadata": {},
   "outputs": [],
   "source": [
    "#FCF List of CFs for each year\n",
    "FCF_List = CF_forec.iloc[-1].values.tolist()\n",
    "npv = npf.npv(wacc_company,FCF_List)"
   ]
  },
  {
   "cell_type": "code",
   "execution_count": 145,
   "id": "outer-length",
   "metadata": {},
   "outputs": [
    {
     "name": "stdout",
     "output_type": "stream",
     "text": [
      "KOSS forecasted price per stock is -0.27492242516337795\n",
      "the forecast is based on the following assumptions: revenue growth: -0.16162674307324978 Cost of Capital: 0.39765668639447593\n",
      "perpetuity growth: 0.02\n"
     ]
    }
   ],
   "source": [
    "#Terminal value\n",
    "LTGrowth = 0.02\n",
    "\n",
    "Terminal_value = (CF_forecast['next_5_year']['FCF'] * (1+ LTGrowth)) /(wacc_company  - LTGrowth)\n",
    "\n",
    "Terminal_value_Discounted = Terminal_value/(1+wacc_company)**4\n",
    "Terminal_value_Discounted\n",
    "\n",
    "target_equity_value = Terminal_value_Discounted + npv\n",
    "debt = balance_sheet['current_year']['totalDebt']\n",
    "target_value = target_equity_value - debt\n",
    "numbre_of_shares = requests.get(f'https://financialmodelingprep.com/api/v3/enterprise-values/{company}?apikey={demo}').json()\n",
    "numbre_of_shares = numbre_of_shares[0]['numberOfShares']\n",
    "\n",
    "target_price_per_share = target_value/numbre_of_shares\n",
    "target_price_per_share\n",
    "print(company + ' forecasted price per stock is ' + str(target_price_per_share) )\n",
    "print('the forecast is based on the following assumptions: '+ 'revenue growth: ' + str(revenue_g) + ' Cost of Capital: ' + str(wacc_company) )\n",
    "print('perpetuity growth: ' + str(LTGrowth)  )"
   ]
  },
  {
   "cell_type": "code",
   "execution_count": null,
   "id": "useful-cabinet",
   "metadata": {},
   "outputs": [],
   "source": []
  },
  {
   "cell_type": "code",
   "execution_count": null,
   "id": "medical-demographic",
   "metadata": {},
   "outputs": [],
   "source": []
  }
 ],
 "metadata": {
  "kernelspec": {
   "display_name": "Python 3",
   "language": "python",
   "name": "python3"
  },
  "language_info": {
   "codemirror_mode": {
    "name": "ipython",
    "version": 3
   },
   "file_extension": ".py",
   "mimetype": "text/x-python",
   "name": "python",
   "nbconvert_exporter": "python",
   "pygments_lexer": "ipython3",
   "version": "3.8.6"
  }
 },
 "nbformat": 4,
 "nbformat_minor": 5
}
